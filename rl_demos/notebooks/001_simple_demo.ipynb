{
 "cells": [
  {
   "cell_type": "code",
   "execution_count": 1,
   "metadata": {},
   "outputs": [],
   "source": [
    "from elegantrl.train.config import Config, get_gym_env_args\n",
    "from elegantrl.agents.AgentDQN import AgentDQN\n",
    "from elegantrl.train.run import train_agent, valid_agent\n",
    "\n",
    "import os\n",
    "import gymnasium as gym\n",
    "gym.logger.set_level(gym.logger.INFO)"
   ]
  },
  {
   "cell_type": "code",
   "execution_count": 2,
   "metadata": {},
   "outputs": [],
   "source": [
    "def train_dqn_for_cartpole(gpu_id=0):\n",
    "    agent_class = AgentDQN\n",
    "    env_class = gym.make\n",
    "\n",
    "    env_name = \"CartPole-v0\"\n",
    "    env_args = {\n",
    "        \"env_name\": env_name,\n",
    "        # (车位置, 车速，杆角度，杆角速度)\n",
    "        \"state_dim\": 4,\n",
    "        \"max_step\": 200,\n",
    "        # (向左，向右)\n",
    "        \"action_dim\": 2,\n",
    "        \"if_discrete\": True\n",
    "    }\n",
    "    get_gym_env_args(env=gym.make(env_name), if_print=True)\n",
    "\n",
    "    args = Config(\n",
    "        agent_class=agent_class,\n",
    "        env_class=env_class,\n",
    "        env_args=env_args\n",
    "    )\n",
    "    # 设置训练step数\n",
    "    args.break_step = int(1e5)\n",
    "    # 设置隐藏层参数量\n",
    "    args.net_dims = [64, 32]\n",
    "    # 设置回报的折扣系数\n",
    "    args.gamma = 0.95\n",
    "\n",
    "    # 设置gpu, -1表示cpu\n",
    "    args.gpu_id = gpu_id\n",
    "\n",
    "    train_agent(args=args)\n",
    "\n",
    "    if input(\"| Press 'y' to load actor.pth and render:\") == 'y':\n",
    "        actor_name = sorted([s for s in os.listdir(args.cwd) if s[-4:] == '.pth'])[-1]\n",
    "        actor_path = f\"{args.cwd}/{actor_name}\"\n",
    "        valid_agent(env_class, env_args, args.net_dims, agent_class, actor_path)\n"
   ]
  },
  {
   "cell_type": "code",
   "execution_count": 3,
   "metadata": {},
   "outputs": [
    {
     "name": "stdout",
     "output_type": "stream",
     "text": [
      "env_args = {'env_name': 'CartPole-v0',\n",
      "            'num_envs': 1,\n",
      "            'max_step': 200,\n",
      "            'state_dim': 4,\n",
      "            'action_dim': 2,\n",
      "            'if_discrete': True}\n",
      "| train_agent_multiprocessing() with GPU_ID 0\n",
      "| Arguments Remove cwd: ./CartPole-v0_DQN_0\n"
     ]
    },
    {
     "name": "stderr",
     "output_type": "stream",
     "text": [
      "/home/wangjl/miniconda3/envs/wangjl_py10/lib/python3.10/site-packages/gymnasium/envs/registration.py:513: DeprecationWarning: \u001b[33mWARN: The environment CartPole-v0 is out of date. You should consider upgrading to version `v1`.\u001b[0m\n",
      "  logger.deprecation(\n",
      "/home/wangjl/miniconda3/envs/wangjl_py10/lib/python3.10/site-packages/gymnasium/envs/registration.py:513: DeprecationWarning: \u001b[33mWARN: The environment CartPole-v0 is out of date. You should consider upgrading to version `v1`.\u001b[0m\n",
      "  logger.deprecation(\n",
      "/home/wangjl/miniconda3/envs/wangjl_py10/lib/python3.10/site-packages/gymnasium/envs/registration.py:513: DeprecationWarning: \u001b[33mWARN: The environment CartPole-v0 is out of date. You should consider upgrading to version `v1`.\u001b[0m\n",
      "  logger.deprecation(\n",
      "/home/wangjl/miniconda3/envs/wangjl_py10/lib/python3.10/site-packages/gymnasium/envs/registration.py:513: DeprecationWarning: \u001b[33mWARN: The environment CartPole-v0 is out of date. You should consider upgrading to version `v1`.\u001b[0m\n",
      "  logger.deprecation(\n"
     ]
    },
    {
     "name": "stdout",
     "output_type": "stream",
     "text": [
      "| Evaluator:\n",
      "| `step`: Number of samples, or total training steps, or running times of `env.step()`.\n",
      "| `time`: Time spent from the start of training to this moment.\n",
      "| `avgR`: Average value of cumulative rewards, which is the sum of rewards in an episode.\n",
      "| `stdR`: Standard dev of cumulative rewards, which is the sum of rewards in an episode.\n",
      "| `avgS`: Average of steps in an episode.\n",
      "| `objC`: Objective of Critic network. Or call it loss function of critic network.\n",
      "| `objA`: Objective of Actor network. It is the average Q value of the critic network.\n",
      "################################################################################\n",
      "ID     Step    Time |    avgR   stdR   avgS  stdS |    expR   objC   objA   etc.\n",
      "0  2.05e+03       3 |    9.33    0.6      9     1 |    1.00   0.25   0.00\n",
      "0  2.25e+04      16 |    9.67    0.6     10     1 |    1.00   0.45   0.12\n",
      "0  4.30e+04      42 |   10.00    0.0     10     0 |    1.00   0.43   0.43\n",
      "0  6.35e+04      82 |    9.67    1.5     10     2 |    1.00   0.40   0.92\n",
      "0  8.40e+04     131 |    9.33    0.6      9     1 |    1.00   0.39   1.60\n",
      "| UsedTime:     163 | SavedDir: ./CartPole-v0_DQN_0\n",
      "| Evaluator Closing\n",
      "| Learner Close Worker\n",
      "| Learner Closed\n",
      "| Evaluator Closed\n"
     ]
    },
    {
     "name": "stderr",
     "output_type": "stream",
     "text": [
      "/home/wangjl/miniconda3/envs/wangjl_py10/lib/python3.10/site-packages/gymnasium/envs/registration.py:513: DeprecationWarning: \u001b[33mWARN: The environment CartPole-v0 is out of date. You should consider upgrading to version `v1`.\u001b[0m\n",
      "  logger.deprecation(\n"
     ]
    },
    {
     "name": "stdout",
     "output_type": "stream",
     "text": [
      "| render and load actor from: ./CartPole-v0_DQN_0/cri_target.pth\n",
      "|   0  cumulative_reward    10.000  episode_step    10\n",
      "|   1  cumulative_reward    10.000  episode_step    10\n",
      "|   2  cumulative_reward     9.000  episode_step     9\n",
      "|   3  cumulative_reward    10.000  episode_step    10\n",
      "|   4  cumulative_reward    10.000  episode_step    10\n",
      "|   5  cumulative_reward    10.000  episode_step    10\n",
      "|   6  cumulative_reward     9.000  episode_step     9\n",
      "|   7  cumulative_reward     9.000  episode_step     9\n"
     ]
    },
    {
     "name": "stderr",
     "output_type": "stream",
     "text": [
      "/home/wangjl/miniconda3/envs/wangjl_py10/lib/python3.10/site-packages/gymnasium/envs/classic_control/cartpole.py:215: UserWarning: \u001b[33mWARN: You are calling render method without specifying any render mode. You can specify the render_mode at initialization, e.g. gym.make(\"CartPole-v0\", render_mode=\"rgb_array\")\u001b[0m\n",
      "  gym.logger.warn(\n"
     ]
    }
   ],
   "source": [
    "\n",
    "train_dqn_for_cartpole(0)"
   ]
  },
  {
   "cell_type": "code",
   "execution_count": null,
   "metadata": {},
   "outputs": [],
   "source": []
  },
  {
   "cell_type": "code",
   "execution_count": null,
   "metadata": {},
   "outputs": [],
   "source": []
  }
 ],
 "metadata": {
  "kernelspec": {
   "display_name": "wangjl_py10",
   "language": "python",
   "name": "python3"
  },
  "language_info": {
   "codemirror_mode": {
    "name": "ipython",
    "version": 3
   },
   "file_extension": ".py",
   "mimetype": "text/x-python",
   "name": "python",
   "nbconvert_exporter": "python",
   "pygments_lexer": "ipython3",
   "version": "3.10.14"
  }
 },
 "nbformat": 4,
 "nbformat_minor": 2
}
